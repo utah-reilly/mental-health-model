{
 "cells": [
  {
   "cell_type": "code",
   "execution_count": 147,
   "id": "de6fdf2d",
   "metadata": {},
   "outputs": [
    {
     "name": "stdout",
     "output_type": "stream",
     "text": [
      "Requirement already satisfied: torch in c:\\users\\johnn\\anaconda3\\lib\\site-packages (2.2.2+cpu)\n",
      "Requirement already satisfied: torchvision in c:\\users\\johnn\\anaconda3\\lib\\site-packages (0.17.2+cpu)\n",
      "Requirement already satisfied: torchaudio in c:\\users\\johnn\\anaconda3\\lib\\site-packages (2.2.2+cpu)\n",
      "Requirement already satisfied: filelock in c:\\users\\johnn\\anaconda3\\lib\\site-packages (from torch) (3.9.0)\n",
      "Requirement already satisfied: typing-extensions>=4.8.0 in c:\\users\\johnn\\anaconda3\\lib\\site-packages (from torch) (4.9.0)\n",
      "Requirement already satisfied: sympy in c:\\users\\johnn\\anaconda3\\lib\\site-packages (from torch) (1.11.1)\n",
      "Requirement already satisfied: networkx in c:\\users\\johnn\\anaconda3\\lib\\site-packages (from torch) (3.1)\n",
      "Requirement already satisfied: jinja2 in c:\\users\\johnn\\anaconda3\\lib\\site-packages (from torch) (3.1.2)\n",
      "Requirement already satisfied: fsspec in c:\\users\\johnn\\anaconda3\\lib\\site-packages (from torch) (2023.4.0)\n",
      "Requirement already satisfied: numpy in c:\\users\\johnn\\anaconda3\\lib\\site-packages (from torchvision) (1.24.3)\n",
      "Requirement already satisfied: pillow!=8.3.*,>=5.3.0 in c:\\users\\johnn\\anaconda3\\lib\\site-packages (from torchvision) (10.0.1)\n",
      "Requirement already satisfied: MarkupSafe>=2.0 in c:\\users\\johnn\\anaconda3\\lib\\site-packages (from jinja2->torch) (2.1.1)\n",
      "Requirement already satisfied: mpmath>=0.19 in c:\\users\\johnn\\anaconda3\\lib\\site-packages (from sympy->torch) (1.3.0)\n",
      "Requirement already satisfied: scikit-learn in c:\\users\\johnn\\anaconda3\\lib\\site-packages (1.3.0)\n",
      "Requirement already satisfied: numpy>=1.17.3 in c:\\users\\johnn\\anaconda3\\lib\\site-packages (from scikit-learn) (1.24.3)\n",
      "Requirement already satisfied: scipy>=1.5.0 in c:\\users\\johnn\\anaconda3\\lib\\site-packages (from scikit-learn) (1.11.1)\n",
      "Requirement already satisfied: joblib>=1.1.1 in c:\\users\\johnn\\anaconda3\\lib\\site-packages (from scikit-learn) (1.2.0)\n",
      "Requirement already satisfied: threadpoolctl>=2.0.0 in c:\\users\\johnn\\anaconda3\\lib\\site-packages (from scikit-learn) (2.2.0)\n"
     ]
    }
   ],
   "source": [
    "!pip install torch torchvision torchaudio\n",
    "!pip install scikit-learn"
   ]
  },
  {
   "cell_type": "code",
   "execution_count": 148,
   "id": "40de557e",
   "metadata": {},
   "outputs": [],
   "source": [
    "import os\n",
    "import torch\n",
    "import torch.nn as nn\n",
    "import torch.optim as optim\n",
    "import numpy as np\n",
    "import pandas as pd\n",
    "from sklearn import preprocessing\n",
    "from sklearn.model_selection import train_test_split\n",
    "import matplotlib.pyplot as plt\n",
    "\n",
    "debug = 0"
   ]
  },
  {
   "cell_type": "code",
   "execution_count": 160,
   "id": "2d2e7040",
   "metadata": {},
   "outputs": [],
   "source": [
    "df = pd.read_csv('.vscode/AI2100/mental-health-model/train.csv') # path to the training csv\n",
    "if debug:\n",
    "    print(df)"
   ]
  },
  {
   "cell_type": "code",
   "execution_count": 161,
   "id": "0bca9067",
   "metadata": {},
   "outputs": [
    {
     "name": "stdout",
     "output_type": "stream",
     "text": [
      "Train: 60.00%\n",
      "Test: 20.00%\n",
      "Validation: 20.00%\n"
     ]
    }
   ],
   "source": [
    "# Split data into train, test, validation sets\n",
    "train_data, temp_data = train_test_split(df, test_size=0.4, random_state=42)\n",
    "test_data, val_data = train_test_split(temp_data, test_size=0.5, random_state=42)\n",
    "\n",
    "print(f\"Train: {len(train_data)/len(df)*100:.2f}%\")\n",
    "print(f\"Test: {len(test_data)/len(df)*100:.2f}%\")\n",
    "print(f\"Validation: {len(val_data)/len(df)*100:.2f}%\")"
   ]
  },
  {
   "cell_type": "code",
   "execution_count": 162,
   "id": "2db53052",
   "metadata": {},
   "outputs": [],
   "source": [
    "# Getting the feature subset from the dataset\n",
    "features = [\"Gender\", \"Age\", \"Working Professional or Student\", \"Academic Pressure\", \"Work Pressure\",\n",
    "            \"Study Satisfaction\", \"Job Satisfaction\", \"Sleep Duration\", \"Dietary Habits\", \n",
    "            \"Have you ever had suicidal thoughts ?\", \"Work/Study Hours\", \"Financial Stress\",\n",
    "            \"Family History of Mental Illness\"]\n",
    "# Sets initial value so it can run. Changed when trying to make it modular.\n",
    "feature_df = df.copy()"
   ]
  },
  {
   "cell_type": "code",
   "execution_count": 163,
   "id": "b609cb87",
   "metadata": {},
   "outputs": [],
   "source": [
    "# Normalizing features using min-max normalization (x-min)/(max-min)\n",
    "def mm_normalization(column_name, df):\n",
    "    feature_max = df[column_name].max()\n",
    "    feature_min = df[column_name].min()\n",
    "    df[column_name] = (df[column_name] - feature_min) / (feature_max - feature_min)"
   ]
  },
  {
   "cell_type": "code",
   "execution_count": 164,
   "id": "6866fba0",
   "metadata": {},
   "outputs": [
    {
     "name": "stdout",
     "output_type": "stream",
     "text": [
      "[0.         0.02380952 0.04761905 0.07142857 0.08333333 0.0952381\n",
      " 0.11904762 0.14285714 0.16666667 0.19047619 0.21428571 0.23809524\n",
      " 0.25       0.26190476 0.28571429 0.30952381 0.33333333 0.35714286\n",
      " 0.38095238 0.4047619  0.41666667 0.42857143 0.45238095 0.47619048\n",
      " 0.5        0.52380952 0.54761905 0.57142857 0.58333333 0.5952381\n",
      " 0.61904762 0.64285714 0.66666667 0.69047619 0.71428571 0.73809524\n",
      " 0.75       0.76190476 0.78571429 0.80952381 0.83333333 0.85714286\n",
      " 0.88095238 0.9047619  0.91666667 0.92857143 0.95238095 0.97619048\n",
      " 1.        ]\n"
     ]
    }
   ],
   "source": [
    "def data_prep(df):\n",
    "    feature_df = df[features].copy()\n",
    "    feature_df.loc[:,\"Work Pressure\"] = df[\"Work Pressure\"].fillna(df[\"Academic Pressure\"])\n",
    "    feature_df.loc[:,\"Job Satisfaction\"] = df[\"Job Satisfaction\"].fillna(df[\"Study Satisfaction\"])\n",
    "    feature_df = feature_df.drop(columns=[\"Academic Pressure\", \"Study Satisfaction\"])\n",
    "    \n",
    "    # Calling the min-max normalization function\n",
    "    mm_normalization(\"Age\", feature_df)\n",
    "    mm_normalization(\"Work Pressure\", feature_df)\n",
    "    mm_normalization(\"Job Satisfaction\", feature_df)\n",
    "    mm_normalization(\"Work/Study Hours\", feature_df)\n",
    "    mm_normalization(\"Financial Stress\", feature_df)\n",
    "    if debug:\n",
    "        print(feature_df)\n",
    "        print(feature_df.columns.tolist())\n",
    "\n",
    "    # label encoding for binary features\n",
    "    label_encoder = preprocessing.LabelEncoder() \n",
    "\n",
    "    feature_df['Gender']= label_encoder.fit_transform(feature_df['Gender'])\n",
    "    feature_df['Working Professional or Student']= label_encoder.fit_transform(feature_df['Working Professional or Student'])\n",
    "    feature_df['Have you ever had suicidal thoughts ?']= label_encoder.fit_transform(feature_df['Have you ever had suicidal thoughts ?'])\n",
    "    feature_df['Family History of Mental Illness']= label_encoder.fit_transform(feature_df['Family History of Mental Illness'])\n",
    "    feature_df['Gender']= label_encoder.fit_transform(feature_df['Gender'])\n",
    "    if debug:\n",
    "        print(feature_df[\"Working Professional or Student\"].unique())\n",
    "        print(feature_df)\n",
    "\n",
    "\n",
    "    # Preparing the data for one-hot encoding\n",
    "    # Mapping 'Sleep Duration' values that aren't in the standard format to their correct range\n",
    "    sleep_map = {\n",
    "        'More than 8 hours': 'More than 8 hours',\n",
    "        'Less than 5 hours': 'Less than 5 hours',\n",
    "        '5-6 hours': '5-6 hours',\n",
    "        '7-8 hours': '7-8 hours',\n",
    "        '6-8 hours': '7-8 hours',\n",
    "        '6-7 hours': '7-8 hours',\n",
    "        '8 hours': '7-8 hours',\n",
    "        '9-11 hours': 'More than 8 hours',\n",
    "        '10-11 hours': 'More than 8 hours',\n",
    "        '40-45 hours': 'More than 8 hours',\n",
    "        '9-6 hours': '7-8 hours',\n",
    "        '1-2 hours': 'Less than 5 hours',\n",
    "        '2-3 hours': 'Less than 5 hours',\n",
    "        '3-4 hours': 'Less than 5 hours',\n",
    "        '1-3 hours': 'Less than 5 hours',\n",
    "        '1-6 hours': 'Less than 5 hours',\n",
    "        'Unhealthy': 'Other',\n",
    "        'Work_Study_Hours': 'Other',\n",
    "        'Moderate': 'Other',\n",
    "        'Indore': 'Other',\n",
    "        'Pune': 'Other',\n",
    "        'than 5 hours': 'Less than 5 hours',\n",
    "        '55-66 hours': 'More than 8 hours',\n",
    "        '45-48 hours': 'More than 8 hours',\n",
    "        '45': 'More than 8 hours',\n",
    "        '49 hours': 'More than 8 hours',\n",
    "        'No': 'Other',\n",
    "        '10-6 hours': 'More than 8 hours',\n",
    "        '9-5 hours': '7-8 hours',\n",
    "        'Other': 'Other',\n",
    "        'Sleep_Duration': 'Other',\n",
    "    }\n",
    "    # Changing the values in the dataframe\n",
    "    feature_df['Sleep Duration'] = feature_df['Sleep Duration'].map(sleep_map)\n",
    "    feature_df['Sleep Duration'] = feature_df['Sleep Duration'].fillna('Other')\n",
    "    if debug:\n",
    "        print(feature_df['Sleep Duration'].unique())\n",
    "\n",
    "\n",
    "    # More prep for one-hot encoding\n",
    "    # Mapping 'Dietary Habits' values that aren't in the standard format to their correct range\n",
    "    diet_map = {\n",
    "        'Moderate': 'Moderate',\n",
    "        'Unhealthy': 'Unhealthy',\n",
    "        'Healthy': 'Healthy',\n",
    "        'Yes': 'Other',\n",
    "        'No': 'Other',\n",
    "        'More Healthy': 'Healthy',\n",
    "        'No Healthy': 'Unhealthy',\n",
    "        'Class 12': 'Other',\n",
    "        'Indoor': 'Other',\n",
    "        'Male': 'Other',\n",
    "        'Vegas': 'Other',\n",
    "        'M.Tech': 'Other',\n",
    "        'Less Healthy': 'Unhealthy',\n",
    "        '1': 'Other',\n",
    "        'Electrician': 'Other',\n",
    "        'Hormonal': 'Other',\n",
    "        'Mihir': 'Other',\n",
    "        'Less than Healthy': 'Unhealthy',\n",
    "        '3': 'Other',\n",
    "        'Gender': 'Other',\n",
    "        'BSc': 'Other',\n",
    "        'Pratham': 'Other',\n",
    "        '2': 'Other',\n",
    "    }\n",
    "    # Changing the values in the dataframe\n",
    "    feature_df['Dietary Habits'] = feature_df['Dietary Habits'].map(diet_map)\n",
    "    feature_df['Dietary Habits'] = feature_df['Dietary Habits'].fillna('Other')\n",
    "    if debug:\n",
    "        print(feature_df['Dietary Habits'].unique())\n",
    "        print(feature_df)\n",
    "\n",
    "    # One-hot encoding for remaining features\n",
    "    encoder = preprocessing.OneHotEncoder(sparse_output=False)\n",
    "    feature_list = ['Sleep Duration', 'Dietary Habits']\n",
    "    encoded_data = encoder.fit_transform(feature_df[feature_list])\n",
    "\n",
    "    # Convert encoded data to a dataframe with aligned index for training set\n",
    "    encoded_df = pd.DataFrame(encoded_data, columns=encoder.get_feature_names_out(feature_list), index=feature_df.index)\n",
    "\n",
    "    # Concatenate the encoded data with the original dataframe\n",
    "    tmp_df = pd.concat([feature_df, encoded_df], axis=1)\n",
    "\n",
    "    # Drop the original columns from the dataframe\n",
    "    feature_df = tmp_df.drop(columns=feature_list, axis=1)\n",
    "\n",
    "    if debug:\n",
    "        print(feature_df.columns.tolist())\n",
    "\n",
    "    # Combine into input vector and removing NaN values\n",
    "    nan_features = feature_df.columns[feature_df.isna().any()].tolist()\n",
    "    feature_df[nan_features] = feature_df[nan_features].fillna(0.5)\n",
    "    if debug:\n",
    "        print(feature_df.isnull().any())\n",
    "\n",
    "    input_vector = feature_df.to_numpy()\n",
    "    if debug:\n",
    "        unique_values, counts = np.unique(input_vector, return_counts=True)\n",
    "        print(unique_values)\n",
    "        print(counts)\n",
    "    \n",
    "    return input_vector\n",
    "\n",
    "input_vector = data_prep(train_data)\n",
    "print(np.unique(input_vector))"
   ]
  },
  {
   "cell_type": "code",
   "execution_count": 178,
   "id": "3ed35912",
   "metadata": {},
   "outputs": [],
   "source": [
    "class MLP(nn.Module):\n",
    "    def __init__(self, input_size, hidden_size, num_classes, dropout_rate=0.5):\n",
    "        super(MLP, self).__init__()\n",
    "        self.fc1 = nn.Linear(input_size, hidden_size)\n",
    "        self.relu = nn.ReLU()\n",
    "        self.dropout = nn.Dropout(p=dropout_rate)\n",
    "        self.fc2 = nn.Linear(hidden_size, num_classes)\n",
    "\n",
    "    def forward(self, x):\n",
    "        out = self.fc1(x)\n",
    "        out = self.relu(out)\n",
    "        out = self.dropout(out)\n",
    "        out = self.fc2(out)\n",
    "        return out"
   ]
  },
  {
   "cell_type": "code",
   "execution_count": 184,
   "id": "f82e544c",
   "metadata": {},
   "outputs": [
    {
     "name": "stdout",
     "output_type": "stream",
     "text": [
      "Epoch [10/500], Loss: 0.5714\n",
      "Epoch [20/500], Loss: 0.5003\n",
      "Epoch [30/500], Loss: 0.4620\n",
      "Epoch [40/500], Loss: 0.4388\n",
      "Epoch [50/500], Loss: 0.4158\n",
      "Epoch [60/500], Loss: 0.3898\n",
      "Epoch [70/500], Loss: 0.3623\n",
      "Epoch [80/500], Loss: 0.3335\n",
      "Epoch [90/500], Loss: 0.3062\n",
      "Epoch [100/500], Loss: 0.2834\n",
      "Epoch [110/500], Loss: 0.2639\n",
      "Epoch [120/500], Loss: 0.2473\n",
      "Epoch [130/500], Loss: 0.2362\n",
      "Epoch [140/500], Loss: 0.2262\n",
      "Epoch [150/500], Loss: 0.2176\n",
      "Epoch [160/500], Loss: 0.2134\n",
      "Epoch [170/500], Loss: 0.2076\n",
      "Epoch [180/500], Loss: 0.2031\n",
      "Epoch [190/500], Loss: 0.1999\n",
      "Epoch [200/500], Loss: 0.1975\n",
      "Epoch [210/500], Loss: 0.1965\n",
      "Epoch [220/500], Loss: 0.1915\n",
      "Epoch [230/500], Loss: 0.1908\n",
      "Epoch [240/500], Loss: 0.1892\n",
      "Epoch [250/500], Loss: 0.1873\n",
      "Epoch [260/500], Loss: 0.1847\n",
      "Epoch [270/500], Loss: 0.1846\n",
      "Epoch [280/500], Loss: 0.1824\n",
      "Epoch [290/500], Loss: 0.1809\n",
      "Epoch [300/500], Loss: 0.1805\n",
      "Epoch [310/500], Loss: 0.1801\n",
      "Epoch [320/500], Loss: 0.1780\n",
      "Epoch [330/500], Loss: 0.1773\n",
      "Epoch [340/500], Loss: 0.1766\n",
      "Epoch [350/500], Loss: 0.1753\n",
      "Epoch [360/500], Loss: 0.1744\n",
      "Epoch [370/500], Loss: 0.1737\n",
      "Epoch [380/500], Loss: 0.1725\n",
      "Epoch [390/500], Loss: 0.1729\n",
      "Epoch [400/500], Loss: 0.1719\n",
      "Epoch [410/500], Loss: 0.1720\n",
      "Epoch [420/500], Loss: 0.1702\n",
      "Epoch [430/500], Loss: 0.1699\n",
      "Epoch [440/500], Loss: 0.1701\n",
      "Epoch [450/500], Loss: 0.1697\n",
      "Epoch [460/500], Loss: 0.1695\n",
      "Epoch [470/500], Loss: 0.1674\n",
      "Epoch [480/500], Loss: 0.1677\n",
      "Epoch [490/500], Loss: 0.1672\n",
      "Epoch [500/500], Loss: 0.1676\n"
     ]
    }
   ],
   "source": [
    "# Put into tensors and get the ground truth for the aligned indecies\n",
    "train = input_vector.copy()\n",
    "train = torch.FloatTensor(train)\n",
    "\n",
    "y_train = train_data['Depression']\n",
    "y_train = torch.LongTensor(y_train.to_numpy())\n",
    "\n",
    "input_size = train.shape[1]\n",
    "hidden_size = 64\n",
    "num_classes = len(torch.unique(y_train))\n",
    "\n",
    "model = MLP(input_size, hidden_size, num_classes, 0.5) # Can change the dropout_rate here too\n",
    "\n",
    "# Define loss function and optimizer\n",
    "criterion = nn.CrossEntropyLoss()\n",
    "optimizer = optim.Adam(model.parameters(), lr=0.001)\n",
    "\n",
    "# Train the model\n",
    "num_epochs = 500\n",
    "losses = []\n",
    "for epoch in range(num_epochs):\n",
    "    # Forward pass\n",
    "    outputs = model(train)\n",
    "    loss = criterion(outputs, y_train)\n",
    "\n",
    "    # Backward pass and optimization\n",
    "    optimizer.zero_grad()\n",
    "    loss.backward()\n",
    "    optimizer.step()\n",
    "\n",
    "    losses.append(loss.item())\n",
    "\n",
    "    if (epoch + 1) % 10 == 0:\n",
    "        print(f'Epoch [{epoch+1}/{num_epochs}], Loss: {loss.item():.4f}')\n",
    "        \n"
   ]
  },
  {
   "cell_type": "code",
   "execution_count": 185,
   "id": "a4e99fe2",
   "metadata": {},
   "outputs": [
    {
     "data": {
      "image/png": "[encoded data removed]",
      "text/plain": [
       "<Figure size 1000x500 with 1 Axes>"
      ]
     },
     "metadata": {},
     "output_type": "display_data"
    }
   ],
   "source": [
    "# Draw the figure of loss\n",
    "plt.figure(figsize=(10, 5))\n",
    "plt.plot(range(1, num_epochs + 1), losses)\n",
    "plt.title('Training Loss over Epochs')\n",
    "plt.xlabel('Epoch')\n",
    "plt.ylabel('Loss')\n",
    "plt.show()"
   ]
  },
  {
   "cell_type": "code",
   "execution_count": 186,
   "id": "118ea86e",
   "metadata": {},
   "outputs": [],
   "source": [
    "# Prep test data\n",
    "test_vector = data_prep(test_data)\n",
    "test = test_vector.copy()\n",
    "test = torch.FloatTensor(test)\n",
    "\n",
    "y_test = test_data['Depression']\n",
    "y_test = torch.LongTensor(y_test.to_numpy())"
   ]
  },
  {
   "cell_type": "code",
   "execution_count": 187,
   "id": "df6b0c38",
   "metadata": {},
   "outputs": [
    {
     "name": "stdout",
     "output_type": "stream",
     "text": [
      "Test Accuracy: 0.9339\n"
     ]
    }
   ],
   "source": [
    "# Evaluate the model\n",
    "with torch.no_grad():\n",
    "    outputs = model(test)\n",
    "    _, predicted = torch.max(outputs.data, 1)\n",
    "    accuracy = (predicted == y_test).sum().item() / len(y_test)\n",
    "    print(f'Test Accuracy: {accuracy:.4f}')"
   ]
  },
  {
   "cell_type": "code",
   "execution_count": 188,
   "id": "202bc480",
   "metadata": {},
   "outputs": [
    {
     "name": "stdout",
     "output_type": "stream",
     "text": [
      "              precision    recall  f1-score   support\n",
      "\n",
      "           0       0.95      0.96      0.96     22999\n",
      "           1       0.84      0.80      0.81      5141\n",
      "\n",
      "    accuracy                           0.93     28140\n",
      "   macro avg       0.90      0.88      0.89     28140\n",
      "weighted avg       0.93      0.93      0.93     28140\n",
      "\n"
     ]
    }
   ],
   "source": [
    "# Showing the imbalance in the data\n",
    "from sklearn.metrics import classification_report\n",
    "\n",
    "y_true = y_test.numpy()\n",
    "y_pred = predicted.numpy()\n",
    "\n",
    "print(classification_report(y_true, y_pred))"
   ]
  },
  {
   "cell_type": "code",
   "execution_count": null,
   "id": "d2725176",
   "metadata": {},
   "outputs": [],
   "source": []
  },
  {
   "cell_type": "code",
   "execution_count": null,
   "id": "84d897f9",
   "metadata": {},
   "outputs": [],
   "source": []
  }
 ],
 "metadata": {
  "kernelspec": {
   "display_name": "Python 3 (ipykernel)",
   "language": "python",
   "name": "python3"
  },
  "language_info": {
   "codemirror_mode": {
    "name": "ipython",
    "version": 3
   },
   "file_extension": ".py",
   "mimetype": "text/x-python",
   "name": "python",
   "nbconvert_exporter": "python",
   "pygments_lexer": "ipython3",
   "version": "3.11.5"
  }
 },
 "nbformat": 4,
 "nbformat_minor": 5
}
